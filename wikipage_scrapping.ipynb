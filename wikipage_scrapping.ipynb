{
  "nbformat": 4,
  "nbformat_minor": 0,
  "metadata": {
    "colab": {
      "provenance": [],
      "authorship_tag": "ABX9TyMGE6qAhV2klFCIlgSkcQSl",
      "include_colab_link": true
    },
    "kernelspec": {
      "name": "python3",
      "display_name": "Python 3"
    },
    "language_info": {
      "name": "python"
    }
  },
  "cells": [
    {
      "cell_type": "markdown",
      "metadata": {
        "id": "view-in-github",
        "colab_type": "text"
      },
      "source": [
        "<a href=\"https://colab.research.google.com/github/LataData/imagescrapper/blob/main/wikipage_scrapping.ipynb\" target=\"_parent\"><img src=\"https://colab.research.google.com/assets/colab-badge.svg\" alt=\"Open In Colab\"/></a>"
      ]
    },
    {
      "cell_type": "code",
      "source": [
        "\"\"\"movies=soup.find('tbody',class_\"listner_list).find_all(\"tr',attribute)\n",
        "print(len(movies))\n",
        "for movie in movies:\n",
        "                 name=movie.find(\"td\",class_=\"titlecolumn\").a.text\n",
        "                 name=movie.find(\"td\",class_=\"titlecolumn\").get_text(strip=true).split('.')[0]\n",
        "                 year=movie.find(\"td\",class_=\"titlecolumn\").span.text.strip(\"()\")\n",
        "                 rank=movie.find(\"td\",class_=\"rating\").strong.text\n",
        "                 print(i)\n",
        "\n",
        "                 name\n",
        "\"\"\""
      ],
      "metadata": {
        "id": "uCKCPngr01fm",
        "colab": {
          "base_uri": "https://localhost:8080/",
          "height": 70
        },
        "outputId": "3cad5a55-ecde-417a-e70d-b47e4e8a15aa"
      },
      "execution_count": 1,
      "outputs": [
        {
          "output_type": "execute_result",
          "data": {
            "text/plain": [
              "'movies=soup.find(\\'tbody\\',class_\"listner_list).find_all(\"tr\\',attribute)\\nprint(len(movies))\\nfor movie in movies:\\n                 name=movie.find(\"td\",class_=\"titlecolumn\").a.text\\n                 name=movie.find(\"td\",class_=\"titlecolumn\").get_text(strip=true).split(\\'.\\')[0]\\n                 year=movie.find(\"td\",class_=\"titlecolumn\").span.text.strip(\"()\")\\n                 rank=movie.find(\"td\",class_=\"rating\").strong.text\\n                 print(i)\\n\\n                 name\\n'"
            ],
            "application/vnd.google.colaboratory.intrinsic+json": {
              "type": "string"
            }
          },
          "metadata": {},
          "execution_count": 1
        }
      ]
    },
    {
      "cell_type": "code",
      "source": [
        "from bs4 import BeautifulSoup\n",
        "import requests\n",
        "url=\"https://en.wikipedia.org/wiki/List_of_largest_companies_in_the_United_States_by_revenue\"\n",
        "response=requests.get(url)"
      ],
      "metadata": {
        "id": "mhdhCVKk-dGR"
      },
      "execution_count": 2,
      "outputs": []
    },
    {
      "cell_type": "code",
      "source": [
        "soup=BeautifulSoup(response.content,\"html.parser\")\n",
        "#soup"
      ],
      "metadata": {
        "id": "IU-gTybuAGYq"
      },
      "execution_count": 3,
      "outputs": []
    },
    {
      "cell_type": "code",
      "source": [
        "table=soup.find_all('table')[1]\n"
      ],
      "metadata": {
        "id": "KBNOCFGNARRx"
      },
      "execution_count": 4,
      "outputs": []
    },
    {
      "cell_type": "code",
      "source": [
        "header=soup.find('div',class_='mw-parser-output').find('table',class_='wikitable sortable').find_all('th')"
      ],
      "metadata": {
        "id": "tolUABM8DLSt"
      },
      "execution_count": 5,
      "outputs": []
    },
    {
      "cell_type": "code",
      "source": [
        "new=[]\n",
        "for i in header:\n",
        "   print(i.text)\n",
        "   new.append(i.text.strip()) #strip for removing new line"
      ],
      "metadata": {
        "colab": {
          "base_uri": "https://localhost:8080/"
        },
        "id": "K1cH7ON9ELan",
        "outputId": "f000ea59-acd9-4a71-d771-bdb14e360beb"
      },
      "execution_count": 6,
      "outputs": [
        {
          "output_type": "stream",
          "name": "stdout",
          "text": [
            "Rank\n",
            "\n",
            "Name\n",
            "\n",
            "Industry\n",
            "\n",
            "Revenue (USD millions)\n",
            "\n",
            "Revenue growth\n",
            "\n",
            "Employees\n",
            "\n",
            "Headquarters\n",
            "\n"
          ]
        }
      ]
    },
    {
      "cell_type": "code",
      "source": [
        "import pandas as pd\n",
        "df=pd.DataFrame(columns=new)"
      ],
      "metadata": {
        "id": "YJCWRqMRTr2p"
      },
      "execution_count": 7,
      "outputs": []
    },
    {
      "cell_type": "code",
      "source": [
        "df"
      ],
      "metadata": {
        "colab": {
          "base_uri": "https://localhost:8080/",
          "height": 50
        },
        "id": "QtfIzl02T0NV",
        "outputId": "db930a8d-278c-4a31-e87b-19cb4aa0fa0b"
      },
      "execution_count": 8,
      "outputs": [
        {
          "output_type": "execute_result",
          "data": {
            "text/plain": [
              "Empty DataFrame\n",
              "Columns: [Rank, Name, Industry, Revenue (USD millions), Revenue growth, Employees, Headquarters]\n",
              "Index: []"
            ],
            "text/html": [
              "\n",
              "\n",
              "  <div id=\"df-0f737918-1ad6-4042-9668-77370c62db68\">\n",
              "    <div class=\"colab-df-container\">\n",
              "      <div>\n",
              "<style scoped>\n",
              "    .dataframe tbody tr th:only-of-type {\n",
              "        vertical-align: middle;\n",
              "    }\n",
              "\n",
              "    .dataframe tbody tr th {\n",
              "        vertical-align: top;\n",
              "    }\n",
              "\n",
              "    .dataframe thead th {\n",
              "        text-align: right;\n",
              "    }\n",
              "</style>\n",
              "<table border=\"1\" class=\"dataframe\">\n",
              "  <thead>\n",
              "    <tr style=\"text-align: right;\">\n",
              "      <th></th>\n",
              "      <th>Rank</th>\n",
              "      <th>Name</th>\n",
              "      <th>Industry</th>\n",
              "      <th>Revenue (USD millions)</th>\n",
              "      <th>Revenue growth</th>\n",
              "      <th>Employees</th>\n",
              "      <th>Headquarters</th>\n",
              "    </tr>\n",
              "  </thead>\n",
              "  <tbody>\n",
              "  </tbody>\n",
              "</table>\n",
              "</div>\n",
              "      <button class=\"colab-df-convert\" onclick=\"convertToInteractive('df-0f737918-1ad6-4042-9668-77370c62db68')\"\n",
              "              title=\"Convert this dataframe to an interactive table.\"\n",
              "              style=\"display:none;\">\n",
              "\n",
              "  <svg xmlns=\"http://www.w3.org/2000/svg\" height=\"24px\"viewBox=\"0 0 24 24\"\n",
              "       width=\"24px\">\n",
              "    <path d=\"M0 0h24v24H0V0z\" fill=\"none\"/>\n",
              "    <path d=\"M18.56 5.44l.94 2.06.94-2.06 2.06-.94-2.06-.94-.94-2.06-.94 2.06-2.06.94zm-11 1L8.5 8.5l.94-2.06 2.06-.94-2.06-.94L8.5 2.5l-.94 2.06-2.06.94zm10 10l.94 2.06.94-2.06 2.06-.94-2.06-.94-.94-2.06-.94 2.06-2.06.94z\"/><path d=\"M17.41 7.96l-1.37-1.37c-.4-.4-.92-.59-1.43-.59-.52 0-1.04.2-1.43.59L10.3 9.45l-7.72 7.72c-.78.78-.78 2.05 0 2.83L4 21.41c.39.39.9.59 1.41.59.51 0 1.02-.2 1.41-.59l7.78-7.78 2.81-2.81c.8-.78.8-2.07 0-2.86zM5.41 20L4 18.59l7.72-7.72 1.47 1.35L5.41 20z\"/>\n",
              "  </svg>\n",
              "      </button>\n",
              "\n",
              "\n",
              "\n",
              "    <div id=\"df-415e0e8d-0425-4d9f-8b3b-596b96c34b10\">\n",
              "      <button class=\"colab-df-quickchart\" onclick=\"quickchart('df-415e0e8d-0425-4d9f-8b3b-596b96c34b10')\"\n",
              "              title=\"Suggest charts.\"\n",
              "              style=\"display:none;\">\n",
              "\n",
              "<svg xmlns=\"http://www.w3.org/2000/svg\" height=\"24px\"viewBox=\"0 0 24 24\"\n",
              "     width=\"24px\">\n",
              "    <g>\n",
              "        <path d=\"M19 3H5c-1.1 0-2 .9-2 2v14c0 1.1.9 2 2 2h14c1.1 0 2-.9 2-2V5c0-1.1-.9-2-2-2zM9 17H7v-7h2v7zm4 0h-2V7h2v10zm4 0h-2v-4h2v4z\"/>\n",
              "    </g>\n",
              "</svg>\n",
              "      </button>\n",
              "    </div>\n",
              "\n",
              "<style>\n",
              "  .colab-df-quickchart {\n",
              "    background-color: #E8F0FE;\n",
              "    border: none;\n",
              "    border-radius: 50%;\n",
              "    cursor: pointer;\n",
              "    display: none;\n",
              "    fill: #1967D2;\n",
              "    height: 32px;\n",
              "    padding: 0 0 0 0;\n",
              "    width: 32px;\n",
              "  }\n",
              "\n",
              "  .colab-df-quickchart:hover {\n",
              "    background-color: #E2EBFA;\n",
              "    box-shadow: 0px 1px 2px rgba(60, 64, 67, 0.3), 0px 1px 3px 1px rgba(60, 64, 67, 0.15);\n",
              "    fill: #174EA6;\n",
              "  }\n",
              "\n",
              "  [theme=dark] .colab-df-quickchart {\n",
              "    background-color: #3B4455;\n",
              "    fill: #D2E3FC;\n",
              "  }\n",
              "\n",
              "  [theme=dark] .colab-df-quickchart:hover {\n",
              "    background-color: #434B5C;\n",
              "    box-shadow: 0px 1px 3px 1px rgba(0, 0, 0, 0.15);\n",
              "    filter: drop-shadow(0px 1px 2px rgba(0, 0, 0, 0.3));\n",
              "    fill: #FFFFFF;\n",
              "  }\n",
              "</style>\n",
              "\n",
              "    <script>\n",
              "      async function quickchart(key) {\n",
              "        const containerElement = document.querySelector('#' + key);\n",
              "        const charts = await google.colab.kernel.invokeFunction(\n",
              "            'suggestCharts', [key], {});\n",
              "      }\n",
              "    </script>\n",
              "\n",
              "      <script>\n",
              "\n",
              "function displayQuickchartButton(domScope) {\n",
              "  let quickchartButtonEl =\n",
              "    domScope.querySelector('#df-415e0e8d-0425-4d9f-8b3b-596b96c34b10 button.colab-df-quickchart');\n",
              "  quickchartButtonEl.style.display =\n",
              "    google.colab.kernel.accessAllowed ? 'block' : 'none';\n",
              "}\n",
              "\n",
              "        displayQuickchartButton(document);\n",
              "      </script>\n",
              "      <style>\n",
              "    .colab-df-container {\n",
              "      display:flex;\n",
              "      flex-wrap:wrap;\n",
              "      gap: 12px;\n",
              "    }\n",
              "\n",
              "    .colab-df-convert {\n",
              "      background-color: #E8F0FE;\n",
              "      border: none;\n",
              "      border-radius: 50%;\n",
              "      cursor: pointer;\n",
              "      display: none;\n",
              "      fill: #1967D2;\n",
              "      height: 32px;\n",
              "      padding: 0 0 0 0;\n",
              "      width: 32px;\n",
              "    }\n",
              "\n",
              "    .colab-df-convert:hover {\n",
              "      background-color: #E2EBFA;\n",
              "      box-shadow: 0px 1px 2px rgba(60, 64, 67, 0.3), 0px 1px 3px 1px rgba(60, 64, 67, 0.15);\n",
              "      fill: #174EA6;\n",
              "    }\n",
              "\n",
              "    [theme=dark] .colab-df-convert {\n",
              "      background-color: #3B4455;\n",
              "      fill: #D2E3FC;\n",
              "    }\n",
              "\n",
              "    [theme=dark] .colab-df-convert:hover {\n",
              "      background-color: #434B5C;\n",
              "      box-shadow: 0px 1px 3px 1px rgba(0, 0, 0, 0.15);\n",
              "      filter: drop-shadow(0px 1px 2px rgba(0, 0, 0, 0.3));\n",
              "      fill: #FFFFFF;\n",
              "    }\n",
              "  </style>\n",
              "\n",
              "      <script>\n",
              "        const buttonEl =\n",
              "          document.querySelector('#df-0f737918-1ad6-4042-9668-77370c62db68 button.colab-df-convert');\n",
              "        buttonEl.style.display =\n",
              "          google.colab.kernel.accessAllowed ? 'block' : 'none';\n",
              "\n",
              "        async function convertToInteractive(key) {\n",
              "          const element = document.querySelector('#df-0f737918-1ad6-4042-9668-77370c62db68');\n",
              "          const dataTable =\n",
              "            await google.colab.kernel.invokeFunction('convertToInteractive',\n",
              "                                                     [key], {});\n",
              "          if (!dataTable) return;\n",
              "\n",
              "          const docLinkHtml = 'Like what you see? Visit the ' +\n",
              "            '<a target=\"_blank\" href=https://colab.research.google.com/notebooks/data_table.ipynb>data table notebook</a>'\n",
              "            + ' to learn more about interactive tables.';\n",
              "          element.innerHTML = '';\n",
              "          dataTable['output_type'] = 'display_data';\n",
              "          await google.colab.output.renderOutput(dataTable, element);\n",
              "          const docLink = document.createElement('div');\n",
              "          docLink.innerHTML = docLinkHtml;\n",
              "          element.appendChild(docLink);\n",
              "        }\n",
              "      </script>\n",
              "    </div>\n",
              "  </div>\n"
            ]
          },
          "metadata": {},
          "execution_count": 8
        }
      ]
    },
    {
      "cell_type": "code",
      "source": [
        "header1=soup.find('div',class_='mw-parser-output').find('table',class_='wikitable sortable').find_all('tr')  #list of lists\n",
        "#print(header1)"
      ],
      "metadata": {
        "id": "7WPTc5irHTjD"
      },
      "execution_count": 9,
      "outputs": []
    },
    {
      "cell_type": "code",
      "source": [
        "row=[]\n",
        "for i in header1[1:]: #first row is blank so ignoring\n",
        "\n",
        "  row_data=(i.find_all('td')) #extracting one list at a time from list of list\n",
        "  each_row_data=[data.text.strip() for data in row_data] #converting td values in a list so that it is easily insertable in df\n",
        "  length=len(df)\n",
        "  df.loc[length]=each_row_data\n",
        ""
      ],
      "metadata": {
        "id": "5A413HZcSfLy"
      },
      "execution_count": 10,
      "outputs": []
    },
    {
      "cell_type": "code",
      "source": [
        "print(df)"
      ],
      "metadata": {
        "colab": {
          "base_uri": "https://localhost:8080/"
        },
        "id": "GxTP1e52LW9L",
        "outputId": "964149e3-c34c-4c9b-9988-ab068200ed4e"
      },
      "execution_count": 11,
      "outputs": [
        {
          "output_type": "stream",
          "name": "stdout",
          "text": [
            "   Rank                 Name                    Industry  \\\n",
            "0     1              Walmart       General merchandisers   \n",
            "1     2               Amazon  Retail and Cloud Computing   \n",
            "2     3                Apple        Electronics industry   \n",
            "3     4           CVS Health                  Healthcare   \n",
            "4     5   UnitedHealth Group                  Healthcare   \n",
            "..  ...                  ...                         ...   \n",
            "95   96     General Dynamics        Airspace and defense   \n",
            "96   97                  CHS     Agriculture cooperative   \n",
            "97   98                 USAA                  Financials   \n",
            "98   99  Northwestern Mutual                   Insurance   \n",
            "99  100                Nucor                      Metals   \n",
            "\n",
            "   Revenue (USD millions) Revenue growth  Employees  \\\n",
            "0                 572,754           2.4%  2,300,000   \n",
            "1                 469,822          21.7%  1,608,000   \n",
            "2                 365,817          33.2%    154,000   \n",
            "3                 292,111          32.0%    258,000   \n",
            "4                 287,597          11.8%    350,000   \n",
            "..                    ...            ...        ...   \n",
            "95                 38,469           8.7%    103,100   \n",
            "96                 38,448           1.4%      9,941   \n",
            "97                 37,470           3.2%     37,335   \n",
            "98                 36,751           8.8%      7,585   \n",
            "99                 36,484          81.2%     28,800   \n",
            "\n",
            "                      Headquarters  \n",
            "0            Bentonville, Arkansas  \n",
            "1              Seattle, Washington  \n",
            "2            Cupertino, California  \n",
            "3         Woonsocket, Rhode Island  \n",
            "4            Minnetonka, Minnesota  \n",
            "..                             ...  \n",
            "95                Reston, Virginia  \n",
            "96  Inver Grove Heights, Minnesota  \n",
            "97              San Antonio, Texas  \n",
            "98            Milwaukee, Wisconsin  \n",
            "99       Charlotte, North Carolina  \n",
            "\n",
            "[100 rows x 7 columns]\n"
          ]
        }
      ]
    },
    {
      "cell_type": "code",
      "source": [],
      "metadata": {
        "id": "c83cLcTwLfI5"
      },
      "execution_count": 12,
      "outputs": []
    }
  ]
}